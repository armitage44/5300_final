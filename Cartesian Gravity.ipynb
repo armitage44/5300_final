{
 "cells": [
  {
   "cell_type": "code",
   "execution_count": 94,
   "metadata": {},
   "outputs": [],
   "source": [
    "import numpy as np\n",
    "import matplotlib.pyplot as plt\n",
    "from scipy.integrate import odeint, solve_ivp"
   ]
  },
  {
   "cell_type": "code",
   "execution_count": 180,
   "metadata": {},
   "outputs": [],
   "source": [
    "class Cartesian_Orbit():\n",
    "    '''\n",
    "    This class simulates the orbital dynamics of two bodies. It utilizes the Lagrange's equations\n",
    "    on gravitational attraction in cartesian coordinate representation.\n",
    "    ----------\n",
    "    Parameters\n",
    "    -----------\n",
    "    m1: float\n",
    "    m2: float\n",
    "    G: float\n",
    "    ---------\n",
    "    df/dt(t,f):\n",
    "    Returns the right side of the differential equation in f, with respect to time t\n",
    "    '''\n",
    "    def __init__(self,m1=1.,m2=1.,G=1.):\n",
    "        self.m1 = m1\n",
    "        self.m2 = m2\n",
    "        self.G = G\n",
    "    \n",
    "    def df_dt(self,t,f):\n",
    "        \"\"\"\n",
    "        This returns the right side of df/dt\n",
    "        \n",
    "        [df/dt d^2f/dt^2]\n",
    "        \n",
    "        t: float\n",
    "        f: a 8 component vector storing information on the position and speed of both particles\n",
    "        \n",
    "        f[0] = x_1     f[2] = y_1\n",
    "        f[1] = x_1_dot f[3] = y_1_dot\n",
    "        f[4] = x_2     f[6] = y_2\n",
    "        f[5] = x_2_dot f[7] = y_2_dot\n",
    "        \"\"\"\n",
    "        \n",
    "        distance = np.sqrt( (f[0]-f[4])**2 + (f[2]-f[6])**2)\n",
    "        \n",
    "        return[f[1], self.G * self.m2 * (f[4]-f[0])/ distance**3,\\\n",
    "               f[3], self.G * self.m2 * (f[6]-f[2])/ distance**3,\\\n",
    "               f[5], -self.G * self.m1 * (f[4]-f[0])/ distance**3,\\\n",
    "               f[7], -self.G * self.m1 * (f[6]-f[2])/ distance**3\\\n",
    "                ]\n",
    "    def solve_ode(self, t_pts, f_0,\n",
    "                  method='RK45',\n",
    "                  abserr=1.0e-8, relerr=1.0e-8):\n",
    "        \"\"\"\n",
    "        Solve the ODE given initial conditions.\n",
    "        Use solve_ivp with the option of specifying the method.\n",
    "        Specify smaller abserr and relerr to get more precision.\n",
    "        \"\"\"\n",
    "        solution = solve_ivp(self.df_dt, (t_pts[0], t_pts[-1]), \n",
    "                             f_0, t_eval=t_pts, method=method, \n",
    "                             atol=abserr, rtol=relerr)\n",
    "        x1, x1_dot, y1, y1_dot, x2, x2_dot, y2, y2_dot = solution.y\n",
    "        return x1,x1_dot, y1, y1_dot, x2, x2_dot, y2, y2_dot\n",
    "    "
   ]
  },
  {
   "cell_type": "code",
   "execution_count": 181,
   "metadata": {},
   "outputs": [],
   "source": [
    "def plot_y_vs_x(x, y, axis_labels=None, label=None, title=None, \n",
    "                color=None, linestyle=None, semilogy=False, loglog=False,\n",
    "                ax=None):\n",
    "    \"\"\"\n",
    "    Generic plotting function: return a figure axis with a plot of y vs. x,\n",
    "    with line color and style, title, axis labels, and line label\n",
    "    \"\"\"\n",
    "    if ax is None:        # if the axis object doesn't exist, make one\n",
    "        ax = plt.gca()\n",
    "\n",
    "    if (semilogy):\n",
    "        line, = ax.semilogy(x, y, label=label, \n",
    "                            color=color, linestyle=linestyle)\n",
    "    elif (loglog):\n",
    "        line, = ax.loglog(x, y, label=label, \n",
    "                          color=color, linestyle=linestyle)\n",
    "    else:\n",
    "        line, = ax.plot(x, y, label=label, \n",
    "                    color=color, linestyle=linestyle)\n",
    "\n",
    "    if label is not None:    # if a label if passed, show the legend\n",
    "        ax.legend()\n",
    "    if title is not None:    # set a title if one if passed\n",
    "        ax.set_title(title)\n",
    "    if axis_labels is not None:  # set x-axis and y-axis labels if passed  \n",
    "        ax.set_xlabel(axis_labels[0])\n",
    "        ax.set_ylabel(axis_labels[1])\n",
    "\n",
    "    return ax, line"
   ]
  },
  {
   "cell_type": "code",
   "execution_count": 182,
   "metadata": {},
   "outputs": [],
   "source": [
    "def start_stop_indices(t_pts, plot_start, plot_stop):\n",
    "    start_index = (np.fabs(t_pts-plot_start)).argmin()  # index in t_pts array \n",
    "    stop_index = (np.fabs(t_pts-plot_stop)).argmin()  # index in t_pts array \n",
    "    return start_index, stop_index"
   ]
  },
  {
   "cell_type": "code",
   "execution_count": 183,
   "metadata": {},
   "outputs": [],
   "source": [
    "t_start = 0.\n",
    "t_end = 30.\n",
    "delta_t = 0.001\n",
    "\n",
    "\n",
    "t_pts = np.arange(t_start, t_end+delta_t, delta_t)  \n",
    "\n",
    "G = 1.\n",
    "m2 = 5.\n",
    "m1 = 1."
   ]
  },
  {
   "cell_type": "code",
   "execution_count": 184,
   "metadata": {},
   "outputs": [],
   "source": [
    "orbit1 = Cartesian_Orbit(m1,m2,G)\n",
    "x1_0, x1_dot_0 =1,-1.\n",
    "y1_0, y1_dot_0 = 1.,1.\n",
    "x2_0, x2_dot_0 = -(m1/m2) * x1_0,-(m1/m2) * x1_dot_0\n",
    "y2_0, y2_dot_0 = -(m1/m2) * y1_0, -(m1/m2) * y1_dot_0"
   ]
  },
  {
   "cell_type": "code",
   "execution_count": 185,
   "metadata": {},
   "outputs": [
    {
     "data": {
      "text/plain": [
       "<matplotlib.legend.Legend at 0x7f99fd5eb0d0>"
      ]
     },
     "execution_count": 185,
     "metadata": {},
     "output_type": "execute_result"
    },
    {
     "data": {
      "image/png": "[encoded data removed]",
      "text/plain": [
       "<Figure size 360x360 with 1 Axes>"
      ]
     },
     "metadata": {
      "needs_background": "light"
     },
     "output_type": "display_data"
    }
   ],
   "source": [
    "f_0 = [x1_0, x1_dot_0, y1_0, y1_dot_0, x2_0, x2_dot_0, y2_0, y2_dot_0]\n",
    "x1, x1_dot, y1, y1_dot, x2, x2_dot, y2, y2_dot = orbit1.solve_ode(t_pts,f_0)\n",
    "\n",
    "\n",
    "fig = plt.figure(figsize=(5,5))\n",
    "ax = fig.add_subplot(1,1,1)\n",
    "start,stop = start_stop_indices(t_pts,t_start,t_end)\n",
    "ax.plot(x1, y1,color = 'blue', label = r'$m_1$')\n",
    "ax.plot(x2, y2, color = 'red', label = r'$m_2$')\n",
    "ax.set_label('Gravitational Orbit1')\n",
    "ax.legend()"
   ]
  },
  {
   "cell_type": "code",
   "execution_count": 188,
   "metadata": {},
   "outputs": [
    {
     "data": {
      "text/plain": [
       "<matplotlib.legend.Legend at 0x7f99fd3c3df0>"
      ]
     },
     "execution_count": 188,
     "metadata": {},
     "output_type": "execute_result"
    },
    {
     "data": {
      "image/png": "[encoded data removed]",
      "text/plain": [
       "<Figure size 360x360 with 1 Axes>"
      ]
     },
     "metadata": {
      "needs_background": "light"
     },
     "output_type": "display_data"
    }
   ],
   "source": [
    "G = 1.\n",
    "m2 = 50.\n",
    "m1 = 1.\n",
    "\n",
    "\n",
    "orbit1 = Cartesian_Orbit(m1,m2,G)\n",
    "x1_0, x1_dot_0 =1,-1.\n",
    "y1_0, y1_dot_0 = 1.,1.\n",
    "x2_0, x2_dot_0 = -(m1/m2) * x1_0,-(m1/m2) * x1_dot_0\n",
    "y2_0, y2_dot_0 = -(m1/m2) * y1_0, -(m1/m2) * y1_dot_0\n",
    "\n",
    "f_0 = [x1_0, x1_dot_0, y1_0, y1_dot_0, x2_0, x2_dot_0, y2_0, y2_dot_0]\n",
    "x1, x1_dot, y1, y1_dot, x2, x2_dot, y2, y2_dot = orbit1.solve_ode(t_pts,f_0)\n",
    "\n",
    "\n",
    "fig = plt.figure(figsize=(5,5))\n",
    "ax = fig.add_subplot(1,1,1)\n",
    "start,stop = start_stop_indices(t_pts,t_start,t_end)\n",
    "ax.plot(x1, y1,color = 'blue', label = r'$m_1$')\n",
    "ax.plot(x2, y2, color = 'red', label = r'$m_2$')\n",
    "ax.set_label('Gravitational Orbit1')\n",
    "ax.legend()"
   ]
  },
  {
   "cell_type": "code",
   "execution_count": 192,
   "metadata": {},
   "outputs": [
    {
     "data": {
      "text/plain": [
       "<matplotlib.legend.Legend at 0x7f99fc5d2f10>"
      ]
     },
     "execution_count": 192,
     "metadata": {},
     "output_type": "execute_result"
    },
    {
     "data": {
      "image/png": "[encoded data removed]",
      "text/plain": [
       "<Figure size 360x360 with 1 Axes>"
      ]
     },
     "metadata": {
      "needs_background": "light"
     },
     "output_type": "display_data"
    }
   ],
   "source": [
    "G = 1.\n",
    "m2 = 10.\n",
    "m1 = 1.\n",
    "\n",
    "\n",
    "orbit1 = Cartesian_Orbit(m1,m2,G)\n",
    "x1_0, x1_dot_0 =1,0.\n",
    "y1_0, y1_dot_0 = 0.,1.\n",
    "x2_0, x2_dot_0 = -(m1/m2) * x1_0,-(m1/m2) * x1_dot_0\n",
    "y2_0, y2_dot_0 = -(m1/m2) * y1_0, -(m1/m2) * y1_dot_0\n",
    "\n",
    "f_0 = [x1_0, x1_dot_0, y1_0, y1_dot_0, x2_0, x2_dot_0, y2_0, y2_dot_0]\n",
    "x1, x1_dot, y1, y1_dot, x2, x2_dot, y2, y2_dot = orbit1.solve_ode(t_pts,f_0)\n",
    "\n",
    "\n",
    "fig = plt.figure(figsize=(5,5))\n",
    "ax = fig.add_subplot(1,1,1)\n",
    "start,stop = start_stop_indices(t_pts,t_start,t_end)\n",
    "ax.plot(x1, y1,color = 'blue', label = r'$m_1$')\n",
    "ax.plot(x2, y2, color = 'red', label = r'$m_2$')\n",
    "ax.set_label('Gravitational Orbit1')\n",
    "ax.legend()"
   ]
  },
  {
   "cell_type": "code",
   "execution_count": 197,
   "metadata": {},
   "outputs": [
    {
     "data": {
      "text/plain": [
       "<matplotlib.legend.Legend at 0x7f99fc44d190>"
      ]
     },
     "execution_count": 197,
     "metadata": {},
     "output_type": "execute_result"
    },
    {
     "data": {
      "image/png": "[encoded data removed]",
      "text/plain": [
       "<Figure size 360x360 with 1 Axes>"
      ]
     },
     "metadata": {
      "needs_background": "light"
     },
     "output_type": "display_data"
    }
   ],
   "source": [
    "G = 1.\n",
    "m2 = 100.\n",
    "m1 = 1.\n",
    "\n",
    "\n",
    "orbit1 = Cartesian_Orbit(m1,m2,G)\n",
    "x1_0, x1_dot_0 =-2,-1.\n",
    "y1_0, y1_dot_0 = -1.,-2\n",
    "x2_0, x2_dot_0 = -(m1/m2) * x1_0,-(m1/m2) * x1_dot_0\n",
    "y2_0, y2_dot_0 = -(m1/m2) * y1_0, -(m1/m2) * y1_dot_0\n",
    "\n",
    "f_0 = [x1_0, x1_dot_0, y1_0, y1_dot_0, x2_0, x2_dot_0, y2_0, y2_dot_0]\n",
    "x1, x1_dot, y1, y1_dot, x2, x2_dot, y2, y2_dot = orbit1.solve_ode(t_pts,f_0)\n",
    "\n",
    "\n",
    "fig = plt.figure(figsize=(5,5))\n",
    "ax = fig.add_subplot(1,1,1)\n",
    "start,stop = start_stop_indices(t_pts,t_start,t_end)\n",
    "ax.plot(x1, y1,color = 'blue', label = r'$m_1$')\n",
    "ax.plot(x2, y2, color = 'red', label = r'$m_2$')\n",
    "ax.set_label('Gravitational Orbit1')\n",
    "ax.legend()"
   ]
  },
  {
   "cell_type": "code",
   "execution_count": null,
   "metadata": {},
   "outputs": [],
   "source": []
  }
 ],
 "metadata": {
  "kernelspec": {
   "display_name": "Python 3.8 (py38)",
   "language": "python",
   "name": "py38"
  },
  "language_info": {
   "codemirror_mode": {
    "name": "ipython",
    "version": 3
   },
   "file_extension": ".py",
   "mimetype": "text/x-python",
   "name": "python",
   "nbconvert_exporter": "python",
   "pygments_lexer": "ipython3",
   "version": "3.8.5"
  }
 },
 "nbformat": 4,
 "nbformat_minor": 4
}
